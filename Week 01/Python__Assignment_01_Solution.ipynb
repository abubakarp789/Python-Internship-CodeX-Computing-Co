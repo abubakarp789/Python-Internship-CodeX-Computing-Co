{
  "nbformat": 4,
  "nbformat_minor": 0,
  "metadata": {
    "colab": {
      "provenance": []
    },
    "kernelspec": {
      "name": "python3",
      "display_name": "Python 3"
    },
    "language_info": {
      "name": "python"
    }
  },
  "cells": [
    {
      "cell_type": "markdown",
      "source": [
        "# Python Internship Week 1 Assignment Solutions"
      ],
      "metadata": {
        "id": "r0z6JqPH3sjJ"
      }
    },
    {
      "cell_type": "markdown",
      "source": [
        "### 1. Calculate the body mass index (BMI) of two variables input by the user. BMI Calculation Formula = weight/ (height)^2."
      ],
      "metadata": {
        "id": "HCXm420G33A2"
      }
    },
    {
      "cell_type": "code",
      "source": [
        "print(\"BMI CALCULATOR\")\n",
        "weight = float(input(\"Enter your weight in kg: \"))\n",
        "height = float(input(\"Enter your height in meters: \"))\n",
        "bmi_score = weight / (height ** 2)\n",
        "print(f\"Your BMI is: {bmi_score:.2f}\")"
      ],
      "metadata": {
        "colab": {
          "base_uri": "https://localhost:8080/"
        },
        "id": "WX4lBCNM31d1",
        "outputId": "7049d953-9546-4351-d9f9-b7d6736a43e3"
      },
      "execution_count": 1,
      "outputs": [
        {
          "output_type": "stream",
          "name": "stdout",
          "text": [
            "BMI CALCULATOR\n",
            "Enter your weight in kg: 70\n",
            "Enter your height in meters: 6\n",
            "Your BMI is: 1.94\n"
          ]
        }
      ]
    },
    {
      "cell_type": "markdown",
      "source": [
        "### 2. Write a program to make a simple console based calculator performing the four basic operations (+, -, *, /) on two numbers input by user.Your program should ask the user which operation he/she wants to perform and gives the output accordingly."
      ],
      "metadata": {
        "id": "GKBtKhlQ4nNg"
      }
    },
    {
      "cell_type": "code",
      "source": [
        "print(\"\\nSimple Calculator\")\n",
        "num1 = float(input(\"Enter first number: \"))\n",
        "num2 = float(input(\"Enter second number: \"))\n",
        "operation = input(\"Enter operation (+, -, *, /): \")\n",
        "\n",
        "if operation == \"+\":\n",
        "    result = num1 + num2\n",
        "    print(f\"{num1} + {num2} = {result}\")\n",
        "elif operation == \"-\":\n",
        "    result = num1 - num2\n",
        "    print(f\"{num1} - {num2} = {result}\")\n",
        "elif operation == \"*\":\n",
        "    result = num1 * num2\n",
        "    print(f\"{num1} * {num2} = {result}\")\n",
        "elif operation == \"/\":\n",
        "    if num2 == 0:\n",
        "        print(\"Error: Division by zero!\")\n",
        "    else:\n",
        "        result = num1 / num2\n",
        "        print(f\"{num1} / {num2} = {result}\")\n",
        "else:\n",
        "    print(\"Invalid operation! Please use +, -, *, or /\")"
      ],
      "metadata": {
        "colab": {
          "base_uri": "https://localhost:8080/"
        },
        "id": "gAFxSSZ74Yw_",
        "outputId": "bdaf5963-3d83-4a46-c766-900d453cc5eb"
      },
      "execution_count": 2,
      "outputs": [
        {
          "output_type": "stream",
          "name": "stdout",
          "text": [
            "\n",
            "Simple Calculator\n",
            "Enter first number: 5\n",
            "Enter second number: 3\n",
            "Enter operation (+, -, *, /): *\n",
            "5.0 * 3.0 = 15.0\n"
          ]
        }
      ]
    },
    {
      "cell_type": "markdown",
      "source": [
        "### 3. Write a program to count all the even numbers in that given list and print the count. list = [2,4,6,5,3,8,2,6,6,4]"
      ],
      "metadata": {
        "id": "gpANYoj25Gg7"
      }
    },
    {
      "cell_type": "code",
      "source": [
        "print(\"\\nCount Even Numbers\")\n",
        "list_numbers = [2, 4, 6, 5, 3, 8, 2, 6, 6, 4]\n",
        "count = 0\n",
        "\n",
        "for num in list_numbers:\n",
        "    if num % 2 == 0:\n",
        "        count += 1\n",
        "\n",
        "print(f\"Number of even numbers in the list: {count}\")"
      ],
      "metadata": {
        "colab": {
          "base_uri": "https://localhost:8080/"
        },
        "id": "oRIl-srO4-2l",
        "outputId": "a830e377-4ebe-4e50-bd47-ae135ae8e005"
      },
      "execution_count": 3,
      "outputs": [
        {
          "output_type": "stream",
          "name": "stdout",
          "text": [
            "\n",
            "Count Even Numbers\n",
            "Number of even numbers in the list: 8\n"
          ]
        }
      ]
    },
    {
      "cell_type": "markdown",
      "source": [
        "### 4. Write a program that returns the sum of all the elements in the given list of task 3."
      ],
      "metadata": {
        "id": "AhMSGFMg5XHo"
      }
    },
    {
      "cell_type": "code",
      "source": [
        "print(\"\\nSum of List Elements\")\n",
        "list_numbers = [2, 4, 6, 5, 3, 8, 2, 6, 6, 4]\n",
        "total = 0\n",
        "\n",
        "for num in list_numbers:\n",
        "    total += num\n",
        "\n",
        "print(f\"Sum of all elements in the list: {total}\")"
      ],
      "metadata": {
        "colab": {
          "base_uri": "https://localhost:8080/"
        },
        "id": "ZrVQVLl15N8r",
        "outputId": "7f2306e5-ad85-4a76-85ae-ee15fb6e01c6"
      },
      "execution_count": 4,
      "outputs": [
        {
          "output_type": "stream",
          "name": "stdout",
          "text": [
            "\n",
            "Sum of List Elements\n",
            "Sum of all elements in the list: 46\n"
          ]
        }
      ]
    },
    {
      "cell_type": "markdown",
      "source": [
        "### 5. Write a program that should delete all elements in the list less than 4. use the list given in task 3."
      ],
      "metadata": {
        "id": "0GcYGctx5idk"
      }
    },
    {
      "cell_type": "code",
      "source": [
        "print(\"\\nDelete Elements Less Than 4\")\n",
        "list_numbers = [2, 4, 6, 5, 3, 8, 2, 6, 6, 4]\n",
        "print(f\"Original list: {list_numbers}\")\n",
        "\n",
        "i = 0\n",
        "while i < len(list_numbers):\n",
        "    if list_numbers[i] < 4:\n",
        "        list_numbers.pop(i)\n",
        "    else:\n",
        "        i += 1\n",
        "\n",
        "print(f\"List after removing elements less than 4: {list_numbers}\")"
      ],
      "metadata": {
        "colab": {
          "base_uri": "https://localhost:8080/"
        },
        "id": "to3hsPYg5dv-",
        "outputId": "c3be329f-56d5-4f47-ac5f-cdb87b66e9ec"
      },
      "execution_count": 5,
      "outputs": [
        {
          "output_type": "stream",
          "name": "stdout",
          "text": [
            "\n",
            "Delete Elements Less Than 4\n",
            "Original list: [2, 4, 6, 5, 3, 8, 2, 6, 6, 4]\n",
            "List after removing elements less than 4: [4, 6, 5, 8, 6, 6, 4]\n"
          ]
        }
      ]
    },
    {
      "cell_type": "markdown",
      "source": [
        "### 6. Write a program to take marks of 3 subjects as input by user and store them in a dictionary having appropriate keys. Using that dictionary calculate average and percentage of those marks."
      ],
      "metadata": {
        "id": "N521MrpQ5yCA"
      }
    },
    {
      "cell_type": "code",
      "source": [
        "print(\"\\nMarks Calculator\")\n",
        "subject1 = float(input(\"Enter marks for subject Math: \"))\n",
        "subject2 = float(input(\"Enter marks for subject English: \"))\n",
        "subject3 = float(input(\"Enter marks for subject Science: \"))\n",
        "\n",
        "marks_dict = {\n",
        "    \"Math_marks\": subject1,\n",
        "    \"English_marks\": subject2,\n",
        "    \"Science_marks\": subject3\n",
        "}\n",
        "\n",
        "total_marks = marks_dict[\"Math_marks\"] + marks_dict[\"English_marks\"] + marks_dict[\"Science_marks\"]\n",
        "average = total_marks / 3\n",
        "percentage = (total_marks / 300) * 100  # Assuming maximum marks for each subject is 100\n",
        "\n",
        "print(f\"Dictionary of marks: {marks_dict}\")\n",
        "print(f\"Average marks: {average:.2f}\")\n",
        "print(f\"Percentage: {percentage:.2f}%\")"
      ],
      "metadata": {
        "colab": {
          "base_uri": "https://localhost:8080/"
        },
        "id": "Eby35iUC5o3W",
        "outputId": "7f50f16e-9016-471c-fb86-abb3c414a4b3"
      },
      "execution_count": 6,
      "outputs": [
        {
          "output_type": "stream",
          "name": "stdout",
          "text": [
            "\n",
            "Marks Calculator\n",
            "Enter marks for subject Math: 90\n",
            "Enter marks for subject English: 88\n",
            "Enter marks for subject Science: 67\n",
            "Dictionary of marks: {'Math_marks': 90.0, 'English_marks': 88.0, 'Science_marks': 67.0}\n",
            "Average marks: 81.67\n",
            "Percentage: 81.67%\n"
          ]
        }
      ]
    },
    {
      "cell_type": "markdown",
      "source": [
        "### 7. Write a Python program to get the largest number from a list input from user. use the list given in task 3."
      ],
      "metadata": {
        "id": "7W9YpElb61oO"
      }
    },
    {
      "cell_type": "code",
      "source": [
        "print(\"\\nLargest Number in List\")\n",
        "list_numbers = [2, 4, 6, 5, 3, 8, 2, 6, 6, 4]\n",
        "largest = list_numbers[0]\n",
        "\n",
        "for num in list_numbers:\n",
        "    if num > largest:\n",
        "        largest = num\n",
        "\n",
        "print(f\"Largest number in the list: {largest}\")"
      ],
      "metadata": {
        "colab": {
          "base_uri": "https://localhost:8080/"
        },
        "id": "nobhN0DP6jko",
        "outputId": "b9176963-d7b8-439d-f20f-42aae5a0393d"
      },
      "execution_count": 7,
      "outputs": [
        {
          "output_type": "stream",
          "name": "stdout",
          "text": [
            "\n",
            "Largest Number in List\n",
            "Largest number in the list: 8\n"
          ]
        }
      ]
    },
    {
      "cell_type": "markdown",
      "source": [
        "### 8. Write a python program that take 10 inputs from the user using loop and append the every user input value in the list and calculate the sum of all numbers."
      ],
      "metadata": {
        "id": "qa0Z8Qe267nC"
      }
    },
    {
      "cell_type": "code",
      "source": [
        "print(\"\\nSum of User Inputs\")\n",
        "user_list = []\n",
        "total_sum = 0\n",
        "\n",
        "for i in range(10):\n",
        "    num = float(input(f\"Enter number {i+1}: \"))\n",
        "    user_list.append(num)\n",
        "    total_sum += num\n",
        "\n",
        "print(f\"Your list: {user_list}\")\n",
        "print(f\"Sum of all numbers: {total_sum}\")"
      ],
      "metadata": {
        "colab": {
          "base_uri": "https://localhost:8080/"
        },
        "id": "ZVW0rPrj6yX1",
        "outputId": "ffc13ea9-ff90-47f2-eda1-a1061f5b397f"
      },
      "execution_count": 8,
      "outputs": [
        {
          "output_type": "stream",
          "name": "stdout",
          "text": [
            "\n",
            "Sum of User Inputs\n",
            "Enter number 1: 5\n",
            "Enter number 2: 4\n",
            "Enter number 3: 6\n",
            "Enter number 4: 7\n",
            "Enter number 5: 6\n",
            "Enter number 6: 5\n",
            "Enter number 7: 4\n",
            "Enter number 8: 8\n",
            "Enter number 9: 9\n",
            "Enter number 10: 8\n",
            "Your list: [5.0, 4.0, 6.0, 7.0, 6.0, 5.0, 4.0, 8.0, 9.0, 8.0]\n",
            "Sum of all numbers: 62.0\n"
          ]
        }
      ]
    },
    {
      "cell_type": "markdown",
      "source": [
        "### 9. Write a python program that take 5 subjects marks from the user and then check the condition if input marks > 100 then show the output \" Invalid Input\", if input marks >= 50 but <= 100 then show \" Pass\" otherwise show \"Fail\"."
      ],
      "metadata": {
        "id": "Ck-1SOOG7PUQ"
      }
    },
    {
      "cell_type": "code",
      "source": [
        "print(\"\\nMarks Evaluation\")\n",
        "\n",
        "for i in range(5):\n",
        "    marks = float(input(f\"Enter marks for subject {i+1}: \"))\n",
        "\n",
        "    if marks > 100:\n",
        "        print(\"Invalid Input\")\n",
        "    elif 50 <= marks <= 100:\n",
        "        print(\"Pass\")\n",
        "    else:\n",
        "        print(\"Fail\")"
      ],
      "metadata": {
        "colab": {
          "base_uri": "https://localhost:8080/"
        },
        "id": "HB_pCXvN7IcI",
        "outputId": "8a3789f9-eec1-4e4b-edfd-545d9eec0dda"
      },
      "execution_count": 9,
      "outputs": [
        {
          "output_type": "stream",
          "name": "stdout",
          "text": [
            "\n",
            "Marks Evaluation\n",
            "Enter marks for subject 1: 50\n",
            "Pass\n",
            "Enter marks for subject 2: 67\n",
            "Pass\n",
            "Enter marks for subject 3: 42\n",
            "Fail\n",
            "Enter marks for subject 4: 49\n",
            "Fail\n",
            "Enter marks for subject 5: 51\n",
            "Pass\n"
          ]
        }
      ]
    },
    {
      "cell_type": "markdown",
      "source": [
        "### 10. Write a Python program to create the multiplication table (from 1 to 10) of a number.\n",
        "### Expected Output:\n",
        "### Input a number: 6 (should be user input)\n",
        "6 x 1 = 6\n",
        "6 x 2 = 12\n",
        "6 x 3 = 18\n",
        "6 x 4 = 24\n",
        "6 x 5 = 30\n",
        "6 x 6 = 36\n",
        "6 x 7 = 42\n",
        "6 x 8 = 48\n",
        "6 x 9 = 54\n",
        "6 x 10 = 60\n",
        "### (table should be print same as above sequence and values)"
      ],
      "metadata": {
        "id": "fMK9_zc67igo"
      }
    },
    {
      "cell_type": "code",
      "source": [
        "print(\"\\nMultiplication Table\")\n",
        "num = int(input(\"Input a number: \"))\n",
        "\n",
        "for i in range(1, 11):\n",
        "    result = num * i\n",
        "    print(f\"{num} x {i} = {result}\")"
      ],
      "metadata": {
        "colab": {
          "base_uri": "https://localhost:8080/"
        },
        "id": "L1f4iWXD7ZkY",
        "outputId": "54ed5fe8-1235-47c5-b966-6243d326cf96"
      },
      "execution_count": 10,
      "outputs": [
        {
          "output_type": "stream",
          "name": "stdout",
          "text": [
            "\n",
            "Multiplication Table\n",
            "Input a number: 6\n",
            "6 x 1 = 6\n",
            "6 x 2 = 12\n",
            "6 x 3 = 18\n",
            "6 x 4 = 24\n",
            "6 x 5 = 30\n",
            "6 x 6 = 36\n",
            "6 x 7 = 42\n",
            "6 x 8 = 48\n",
            "6 x 9 = 54\n",
            "6 x 10 = 60\n"
          ]
        }
      ]
    },
    {
      "cell_type": "code",
      "source": [],
      "metadata": {
        "id": "Wgyyqzt77u-e"
      },
      "execution_count": null,
      "outputs": []
    }
  ]
}